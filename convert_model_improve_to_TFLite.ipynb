{
  "nbformat": 4,
  "nbformat_minor": 0,
  "metadata": {
    "colab": {
      "provenance": []
    },
    "kernelspec": {
      "name": "python3",
      "display_name": "Python 3"
    },
    "language_info": {
      "name": "python"
    }
  },
  "cells": [
    {
      "cell_type": "code",
      "execution_count": 1,
      "metadata": {
        "colab": {
          "base_uri": "https://localhost:8080/"
        },
        "id": "f97rt6hg2yNG",
        "outputId": "21cd4297-f0fd-4839-d37b-c81f8f010e68"
      },
      "outputs": [
        {
          "output_type": "stream",
          "name": "stdout",
          "text": [
            "Mounted at /content/drive\n"
          ]
        }
      ],
      "source": [
        "from google.colab import drive\n",
        "drive.mount('/content/drive')"
      ]
    },
    {
      "cell_type": "code",
      "source": [
        "# Convert keras model to tflite \n",
        "def get_file_size(file_path):\n",
        "    size = os.path.getsize(file_path)\n",
        "    return size\n",
        "\n",
        "def convert_bytes(size, unit=None):\n",
        "    if unit == \"KB\":\n",
        "        return print('File size: ' + str(round(size / 1024, 3)) + ' Kilobytes')\n",
        "    elif unit == \"MB\":\n",
        "        return print('File size: ' + str(round(size / (1024 * 1024), 3)) + ' Megabytes')\n",
        "    else:\n",
        "        return print('File size: ' + str(size) + ' bytes')"
      ],
      "metadata": {
        "id": "2qWEKfJe3AU_"
      },
      "execution_count": 2,
      "outputs": []
    },
    {
      "cell_type": "markdown",
      "source": [
        "Upload the .h5 model"
      ],
      "metadata": {
        "id": "k9Jql1qW4LLb"
      }
    },
    {
      "cell_type": "code",
      "source": [
        "import tensorflow as tf\n",
        "import os\n",
        "from keras.models import load_model"
      ],
      "metadata": {
        "id": "gdSV723z4mmr"
      },
      "execution_count": 4,
      "outputs": []
    },
    {
      "cell_type": "code",
      "source": [
        "model = load_model(\"/content/drive/MyDrive/Capstone Dataset/saved model_pt3 custom fruits & vegetables/saved_model.h5\")\n",
        "\n",
        "TF_LITE_MODEL_FILE_NAME = \"tflite_model.tflite\"\n",
        "tf_lite_converter = tf.lite.TFLiteConverter.from_keras_model(model)\n",
        "tflite_model = tf_lite_converter.convert()\n",
        "tflite_model_name = TF_LITE_MODEL_FILE_NAME\n",
        "open(tflite_model_name, \"wb\").write(tflite_model)\n",
        "convert_bytes(get_file_size(TF_LITE_MODEL_FILE_NAME), \"KB\")\n",
        "\n",
        "# Convert the model.\n",
        "converter = tf.lite.TFLiteConverter.from_keras_model(model)\n",
        "tflite_model = converter.convert()\n",
        "\n",
        "# Save the model.\n",
        "with open('tflite_model.tflite', 'wb') as f:\n",
        "  f.write(tflite_model)"
      ],
      "metadata": {
        "colab": {
          "base_uri": "https://localhost:8080/"
        },
        "id": "ELXrJvSq7tdU",
        "outputId": "e82e8d6e-8e71-4f05-d8c4-7d01b8ffeaff"
      },
      "execution_count": 5,
      "outputs": [
        {
          "output_type": "stream",
          "name": "stderr",
          "text": [
            "WARNING:absl:Function `_wrapped_model` contains input name(s) mobilenetv2_1.00_128_input with unsupported characters which will be renamed to mobilenetv2_1_00_128_input in the SavedModel.\n",
            "WARNING:absl:`mobilenetv2_1.00_128_input` is not a valid tf.function parameter name. Sanitizing to `mobilenetv2_1_00_128_input`.\n",
            "WARNING:absl:`mobilenetv2_1.00_128_input` is not a valid tf.function parameter name. Sanitizing to `mobilenetv2_1_00_128_input`.\n",
            "WARNING:absl:`mobilenetv2_1.00_128_input` is not a valid tf.function parameter name. Sanitizing to `mobilenetv2_1_00_128_input`.\n",
            "WARNING:absl:Found untraced functions such as _update_step_xla, _jit_compiled_convolution_op, _jit_compiled_convolution_op, _jit_compiled_convolution_op, _jit_compiled_convolution_op while saving (showing 5 of 53). These functions will not be directly callable after loading.\n"
          ]
        },
        {
          "output_type": "stream",
          "name": "stdout",
          "text": [
            "File size: 11520.812 Kilobytes\n"
          ]
        },
        {
          "output_type": "stream",
          "name": "stderr",
          "text": [
            "WARNING:absl:Function `_wrapped_model` contains input name(s) mobilenetv2_1.00_128_input with unsupported characters which will be renamed to mobilenetv2_1_00_128_input in the SavedModel.\n",
            "WARNING:absl:`mobilenetv2_1.00_128_input` is not a valid tf.function parameter name. Sanitizing to `mobilenetv2_1_00_128_input`.\n",
            "WARNING:absl:`mobilenetv2_1.00_128_input` is not a valid tf.function parameter name. Sanitizing to `mobilenetv2_1_00_128_input`.\n",
            "WARNING:absl:Found untraced functions such as _update_step_xla, _jit_compiled_convolution_op, _jit_compiled_convolution_op, _jit_compiled_convolution_op, _jit_compiled_convolution_op while saving (showing 5 of 53). These functions will not be directly callable after loading.\n"
          ]
        }
      ]
    }
  ]
}